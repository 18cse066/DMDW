{
  "nbformat": 4,
  "nbformat_minor": 0,
  "metadata": {
    "colab": {
      "name": "Normalization.ipynb",
      "provenance": [],
      "authorship_tag": "ABX9TyOfyNNIeJjGafoaGY+bOGGv",
      "include_colab_link": true
    },
    "kernelspec": {
      "name": "python3",
      "display_name": "Python 3"
    }
  },
  "cells": [
    {
      "cell_type": "markdown",
      "metadata": {
        "id": "view-in-github",
        "colab_type": "text"
      },
      "source": [
        "<a href=\"https://colab.research.google.com/github/18cse066/DMDW/blob/main/Normalization.ipynb\" target=\"_parent\"><img src=\"https://colab.research.google.com/assets/colab-badge.svg\" alt=\"Open In Colab\"/></a>"
      ]
    },
    {
      "cell_type": "code",
      "metadata": {
        "id": "mgZMYxnU64Hk"
      },
      "source": [
        "import pandas as pd"
      ],
      "execution_count": 1,
      "outputs": []
    },
    {
      "cell_type": "code",
      "metadata": {
        "id": "nzf7IpVK7RY5"
      },
      "source": [
        "import numpy as np"
      ],
      "execution_count": 2,
      "outputs": []
    },
    {
      "cell_type": "code",
      "metadata": {
        "id": "CFvR7o817VhC"
      },
      "source": [
        "df=pd.read_csv(r'https://raw.githubusercontent.com/18cse066/DMDW/main/cwurData.csv')"
      ],
      "execution_count": 4,
      "outputs": []
    },
    {
      "cell_type": "code",
      "metadata": {
        "id": "kY4rNKyk7nis"
      },
      "source": [
        "import matplotlib.pyplot as plt\n",
        "import seaborn as sns\n",
        "get_ipython().run_line_magic('matplotlib','inline')\n",
        "plt.style.use('seaborn-whitegrid')"
      ],
      "execution_count": 5,
      "outputs": []
    },
    {
      "cell_type": "code",
      "metadata": {
        "colab": {
          "base_uri": "https://localhost:8080/",
          "height": 657
        },
        "id": "-ypympli8PpD",
        "outputId": "87a39f15-ffea-44c9-9365-aa289606a457"
      },
      "source": [
        "df"
      ],
      "execution_count": 6,
      "outputs": [
        {
          "output_type": "execute_result",
          "data": {
            "text/html": [
              "<div>\n",
              "<style scoped>\n",
              "    .dataframe tbody tr th:only-of-type {\n",
              "        vertical-align: middle;\n",
              "    }\n",
              "\n",
              "    .dataframe tbody tr th {\n",
              "        vertical-align: top;\n",
              "    }\n",
              "\n",
              "    .dataframe thead th {\n",
              "        text-align: right;\n",
              "    }\n",
              "</style>\n",
              "<table border=\"1\" class=\"dataframe\">\n",
              "  <thead>\n",
              "    <tr style=\"text-align: right;\">\n",
              "      <th></th>\n",
              "      <th>world_rank</th>\n",
              "      <th>institution</th>\n",
              "      <th>country</th>\n",
              "      <th>national_rank</th>\n",
              "      <th>quality_of_education</th>\n",
              "      <th>alumni_employment</th>\n",
              "      <th>quality_of_faculty</th>\n",
              "      <th>publications</th>\n",
              "      <th>influence</th>\n",
              "      <th>citations</th>\n",
              "      <th>broad_impact</th>\n",
              "      <th>patents</th>\n",
              "      <th>score</th>\n",
              "      <th>year</th>\n",
              "    </tr>\n",
              "  </thead>\n",
              "  <tbody>\n",
              "    <tr>\n",
              "      <th>0</th>\n",
              "      <td>1</td>\n",
              "      <td>Harvard University</td>\n",
              "      <td>USA</td>\n",
              "      <td>1</td>\n",
              "      <td>7</td>\n",
              "      <td>9</td>\n",
              "      <td>1</td>\n",
              "      <td>1</td>\n",
              "      <td>1</td>\n",
              "      <td>1</td>\n",
              "      <td>NaN</td>\n",
              "      <td>5</td>\n",
              "      <td>100.00</td>\n",
              "      <td>2012</td>\n",
              "    </tr>\n",
              "    <tr>\n",
              "      <th>1</th>\n",
              "      <td>2</td>\n",
              "      <td>Massachusetts Institute of Technology</td>\n",
              "      <td>USA</td>\n",
              "      <td>2</td>\n",
              "      <td>9</td>\n",
              "      <td>17</td>\n",
              "      <td>3</td>\n",
              "      <td>12</td>\n",
              "      <td>4</td>\n",
              "      <td>4</td>\n",
              "      <td>NaN</td>\n",
              "      <td>1</td>\n",
              "      <td>91.67</td>\n",
              "      <td>2012</td>\n",
              "    </tr>\n",
              "    <tr>\n",
              "      <th>2</th>\n",
              "      <td>3</td>\n",
              "      <td>Stanford University</td>\n",
              "      <td>USA</td>\n",
              "      <td>3</td>\n",
              "      <td>17</td>\n",
              "      <td>11</td>\n",
              "      <td>5</td>\n",
              "      <td>4</td>\n",
              "      <td>2</td>\n",
              "      <td>2</td>\n",
              "      <td>NaN</td>\n",
              "      <td>15</td>\n",
              "      <td>89.50</td>\n",
              "      <td>2012</td>\n",
              "    </tr>\n",
              "    <tr>\n",
              "      <th>3</th>\n",
              "      <td>4</td>\n",
              "      <td>University of Cambridge</td>\n",
              "      <td>United Kingdom</td>\n",
              "      <td>1</td>\n",
              "      <td>10</td>\n",
              "      <td>24</td>\n",
              "      <td>4</td>\n",
              "      <td>16</td>\n",
              "      <td>16</td>\n",
              "      <td>11</td>\n",
              "      <td>NaN</td>\n",
              "      <td>50</td>\n",
              "      <td>86.17</td>\n",
              "      <td>2012</td>\n",
              "    </tr>\n",
              "    <tr>\n",
              "      <th>4</th>\n",
              "      <td>5</td>\n",
              "      <td>California Institute of Technology</td>\n",
              "      <td>USA</td>\n",
              "      <td>4</td>\n",
              "      <td>2</td>\n",
              "      <td>29</td>\n",
              "      <td>7</td>\n",
              "      <td>37</td>\n",
              "      <td>22</td>\n",
              "      <td>22</td>\n",
              "      <td>NaN</td>\n",
              "      <td>18</td>\n",
              "      <td>85.21</td>\n",
              "      <td>2012</td>\n",
              "    </tr>\n",
              "    <tr>\n",
              "      <th>...</th>\n",
              "      <td>...</td>\n",
              "      <td>...</td>\n",
              "      <td>...</td>\n",
              "      <td>...</td>\n",
              "      <td>...</td>\n",
              "      <td>...</td>\n",
              "      <td>...</td>\n",
              "      <td>...</td>\n",
              "      <td>...</td>\n",
              "      <td>...</td>\n",
              "      <td>...</td>\n",
              "      <td>...</td>\n",
              "      <td>...</td>\n",
              "      <td>...</td>\n",
              "    </tr>\n",
              "    <tr>\n",
              "      <th>2195</th>\n",
              "      <td>996</td>\n",
              "      <td>University of the Algarve</td>\n",
              "      <td>Portugal</td>\n",
              "      <td>7</td>\n",
              "      <td>367</td>\n",
              "      <td>567</td>\n",
              "      <td>218</td>\n",
              "      <td>926</td>\n",
              "      <td>845</td>\n",
              "      <td>812</td>\n",
              "      <td>969.0</td>\n",
              "      <td>816</td>\n",
              "      <td>44.03</td>\n",
              "      <td>2015</td>\n",
              "    </tr>\n",
              "    <tr>\n",
              "      <th>2196</th>\n",
              "      <td>997</td>\n",
              "      <td>Alexandria University</td>\n",
              "      <td>Egypt</td>\n",
              "      <td>4</td>\n",
              "      <td>236</td>\n",
              "      <td>566</td>\n",
              "      <td>218</td>\n",
              "      <td>997</td>\n",
              "      <td>908</td>\n",
              "      <td>645</td>\n",
              "      <td>981.0</td>\n",
              "      <td>871</td>\n",
              "      <td>44.03</td>\n",
              "      <td>2015</td>\n",
              "    </tr>\n",
              "    <tr>\n",
              "      <th>2197</th>\n",
              "      <td>998</td>\n",
              "      <td>Federal University of Ceará</td>\n",
              "      <td>Brazil</td>\n",
              "      <td>18</td>\n",
              "      <td>367</td>\n",
              "      <td>549</td>\n",
              "      <td>218</td>\n",
              "      <td>830</td>\n",
              "      <td>823</td>\n",
              "      <td>812</td>\n",
              "      <td>975.0</td>\n",
              "      <td>824</td>\n",
              "      <td>44.03</td>\n",
              "      <td>2015</td>\n",
              "    </tr>\n",
              "    <tr>\n",
              "      <th>2198</th>\n",
              "      <td>999</td>\n",
              "      <td>University of A Coruña</td>\n",
              "      <td>Spain</td>\n",
              "      <td>40</td>\n",
              "      <td>367</td>\n",
              "      <td>567</td>\n",
              "      <td>218</td>\n",
              "      <td>886</td>\n",
              "      <td>974</td>\n",
              "      <td>812</td>\n",
              "      <td>975.0</td>\n",
              "      <td>651</td>\n",
              "      <td>44.02</td>\n",
              "      <td>2015</td>\n",
              "    </tr>\n",
              "    <tr>\n",
              "      <th>2199</th>\n",
              "      <td>1000</td>\n",
              "      <td>China Pharmaceutical University</td>\n",
              "      <td>China</td>\n",
              "      <td>83</td>\n",
              "      <td>367</td>\n",
              "      <td>567</td>\n",
              "      <td>218</td>\n",
              "      <td>861</td>\n",
              "      <td>991</td>\n",
              "      <td>812</td>\n",
              "      <td>981.0</td>\n",
              "      <td>547</td>\n",
              "      <td>44.02</td>\n",
              "      <td>2015</td>\n",
              "    </tr>\n",
              "  </tbody>\n",
              "</table>\n",
              "<p>2200 rows × 14 columns</p>\n",
              "</div>"
            ],
            "text/plain": [
              "      world_rank                            institution  ...   score  year\n",
              "0              1                     Harvard University  ...  100.00  2012\n",
              "1              2  Massachusetts Institute of Technology  ...   91.67  2012\n",
              "2              3                    Stanford University  ...   89.50  2012\n",
              "3              4                University of Cambridge  ...   86.17  2012\n",
              "4              5     California Institute of Technology  ...   85.21  2012\n",
              "...          ...                                    ...  ...     ...   ...\n",
              "2195         996              University of the Algarve  ...   44.03  2015\n",
              "2196         997                  Alexandria University  ...   44.03  2015\n",
              "2197         998            Federal University of Ceará  ...   44.03  2015\n",
              "2198         999                 University of A Coruña  ...   44.02  2015\n",
              "2199        1000        China Pharmaceutical University  ...   44.02  2015\n",
              "\n",
              "[2200 rows x 14 columns]"
            ]
          },
          "metadata": {
            "tags": []
          },
          "execution_count": 6
        }
      ]
    },
    {
      "cell_type": "code",
      "metadata": {
        "id": "wZKv8GQA8QTN"
      },
      "source": [
        "df1=df[['quality_of_faculty','publications']]"
      ],
      "execution_count": 7,
      "outputs": []
    },
    {
      "cell_type": "code",
      "metadata": {
        "colab": {
          "base_uri": "https://localhost:8080/",
          "height": 195
        },
        "id": "55Ob4mCQ8nVc",
        "outputId": "80e96e28-8f77-47ef-9015-a922458d8b21"
      },
      "source": [
        "df1.head()"
      ],
      "execution_count": 8,
      "outputs": [
        {
          "output_type": "execute_result",
          "data": {
            "text/html": [
              "<div>\n",
              "<style scoped>\n",
              "    .dataframe tbody tr th:only-of-type {\n",
              "        vertical-align: middle;\n",
              "    }\n",
              "\n",
              "    .dataframe tbody tr th {\n",
              "        vertical-align: top;\n",
              "    }\n",
              "\n",
              "    .dataframe thead th {\n",
              "        text-align: right;\n",
              "    }\n",
              "</style>\n",
              "<table border=\"1\" class=\"dataframe\">\n",
              "  <thead>\n",
              "    <tr style=\"text-align: right;\">\n",
              "      <th></th>\n",
              "      <th>quality_of_faculty</th>\n",
              "      <th>publications</th>\n",
              "    </tr>\n",
              "  </thead>\n",
              "  <tbody>\n",
              "    <tr>\n",
              "      <th>0</th>\n",
              "      <td>1</td>\n",
              "      <td>1</td>\n",
              "    </tr>\n",
              "    <tr>\n",
              "      <th>1</th>\n",
              "      <td>3</td>\n",
              "      <td>12</td>\n",
              "    </tr>\n",
              "    <tr>\n",
              "      <th>2</th>\n",
              "      <td>5</td>\n",
              "      <td>4</td>\n",
              "    </tr>\n",
              "    <tr>\n",
              "      <th>3</th>\n",
              "      <td>4</td>\n",
              "      <td>16</td>\n",
              "    </tr>\n",
              "    <tr>\n",
              "      <th>4</th>\n",
              "      <td>7</td>\n",
              "      <td>37</td>\n",
              "    </tr>\n",
              "  </tbody>\n",
              "</table>\n",
              "</div>"
            ],
            "text/plain": [
              "   quality_of_faculty  publications\n",
              "0                   1             1\n",
              "1                   3            12\n",
              "2                   5             4\n",
              "3                   4            16\n",
              "4                   7            37"
            ]
          },
          "metadata": {
            "tags": []
          },
          "execution_count": 8
        }
      ]
    },
    {
      "cell_type": "code",
      "metadata": {
        "id": "G_QcAYLB8pig"
      },
      "source": [
        "x=df1['quality_of_faculty']\n",
        "y=df1['publications']"
      ],
      "execution_count": 9,
      "outputs": []
    },
    {
      "cell_type": "code",
      "metadata": {
        "colab": {
          "base_uri": "https://localhost:8080/",
          "height": 330
        },
        "id": "RMev1E4p80JE",
        "outputId": "b1692af2-d8c6-42c8-dd8e-4a19356b8ad0"
      },
      "source": [
        "sns.lineplot(x,y,dashes=True)\n",
        "plt.show()"
      ],
      "execution_count": 10,
      "outputs": [
        {
          "output_type": "stream",
          "text": [
            "/usr/local/lib/python3.6/dist-packages/seaborn/_decorators.py:43: FutureWarning: Pass the following variables as keyword args: x, y. From version 0.12, the only valid positional argument will be `data`, and passing other arguments without an explicit keyword will result in an error or misinterpretation.\n",
            "  FutureWarning\n"
          ],
          "name": "stderr"
        },
        {
          "output_type": "display_data",
          "data": {
            "image/png": "[encoded data removed]",
            "text/plain": [
              "<Figure size 432x288 with 1 Axes>"
            ]
          },
          "metadata": {
            "tags": []
          }
        }
      ]
    },
    {
      "cell_type": "code",
      "metadata": {
        "id": "-mMb8uwX9Qqr"
      },
      "source": [
        "from scipy.stats import norm"
      ],
      "execution_count": 11,
      "outputs": []
    },
    {
      "cell_type": "code",
      "metadata": {
        "colab": {
          "base_uri": "https://localhost:8080/"
        },
        "id": "JW9bvYYe9biN",
        "outputId": "a68c3b3a-fd1c-4a6e-9906-904755912454"
      },
      "source": [
        "correlation=df1.corr()\n",
        "print(correlation)"
      ],
      "execution_count": 12,
      "outputs": [
        {
          "output_type": "stream",
          "text": [
            "                    quality_of_faculty  publications\n",
            "quality_of_faculty            1.000000      0.634423\n",
            "publications                  0.634423      1.000000\n"
          ],
          "name": "stdout"
        }
      ]
    },
    {
      "cell_type": "code",
      "metadata": {
        "colab": {
          "base_uri": "https://localhost:8080/",
          "height": 266
        },
        "id": "yaEJdSmH9jVr",
        "outputId": "4daa975d-6550-4bc5-8301-e72ac409b2bd"
      },
      "source": [
        "sns.heatmap(correlation,cmap='BrBG')\n",
        "plt.show()"
      ],
      "execution_count": 13,
      "outputs": [
        {
          "output_type": "display_data",
          "data": {
            "image/png": "[encoded data removed]",
            "text/plain": [
              "<Figure size 432x288 with 2 Axes>"
            ]
          },
          "metadata": {
            "tags": []
          }
        }
      ]
    },
    {
      "cell_type": "code",
      "metadata": {
        "colab": {
          "base_uri": "https://localhost:8080/"
        },
        "id": "prEW2L0R9udz",
        "outputId": "0233f6d3-08b0-4d45-d772-459c98ad6945"
      },
      "source": [
        "covar=df1.cov()\n",
        "print(covar)"
      ],
      "execution_count": 14,
      "outputs": [
        {
          "output_type": "stream",
          "text": [
            "                    quality_of_faculty  publications\n",
            "quality_of_faculty         4102.515913  12343.406787\n",
            "publications              12343.406787  92270.351358\n"
          ],
          "name": "stdout"
        }
      ]
    },
    {
      "cell_type": "code",
      "metadata": {
        "colab": {
          "base_uri": "https://localhost:8080/",
          "height": 262
        },
        "id": "C6UxO0mM90fn",
        "outputId": "0954a0f5-11dd-4d72-a149-c807749b8a40"
      },
      "source": [
        "sns.heatmap(covar)\n",
        "plt.show()"
      ],
      "execution_count": 15,
      "outputs": [
        {
          "output_type": "display_data",
          "data": {
            "image/png": "[encoded data removed]",
            "text/plain": [
              "<Figure size 432x288 with 2 Axes>"
            ]
          },
          "metadata": {
            "tags": []
          }
        }
      ]
    },
    {
      "cell_type": "code",
      "metadata": {
        "id": "Vh7XEFjL99q5"
      },
      "source": [
        "##NORMALIZATION"
      ],
      "execution_count": 16,
      "outputs": []
    },
    {
      "cell_type": "code",
      "metadata": {
        "colab": {
          "base_uri": "https://localhost:8080/",
          "height": 657
        },
        "id": "3f7eYoHG-Dx8",
        "outputId": "658b7c81-7bb0-49c7-9dc9-44129517180e"
      },
      "source": [
        "df"
      ],
      "execution_count": 17,
      "outputs": [
        {
          "output_type": "execute_result",
          "data": {
            "text/html": [
              "<div>\n",
              "<style scoped>\n",
              "    .dataframe tbody tr th:only-of-type {\n",
              "        vertical-align: middle;\n",
              "    }\n",
              "\n",
              "    .dataframe tbody tr th {\n",
              "        vertical-align: top;\n",
              "    }\n",
              "\n",
              "    .dataframe thead th {\n",
              "        text-align: right;\n",
              "    }\n",
              "</style>\n",
              "<table border=\"1\" class=\"dataframe\">\n",
              "  <thead>\n",
              "    <tr style=\"text-align: right;\">\n",
              "      <th></th>\n",
              "      <th>world_rank</th>\n",
              "      <th>institution</th>\n",
              "      <th>country</th>\n",
              "      <th>national_rank</th>\n",
              "      <th>quality_of_education</th>\n",
              "      <th>alumni_employment</th>\n",
              "      <th>quality_of_faculty</th>\n",
              "      <th>publications</th>\n",
              "      <th>influence</th>\n",
              "      <th>citations</th>\n",
              "      <th>broad_impact</th>\n",
              "      <th>patents</th>\n",
              "      <th>score</th>\n",
              "      <th>year</th>\n",
              "    </tr>\n",
              "  </thead>\n",
              "  <tbody>\n",
              "    <tr>\n",
              "      <th>0</th>\n",
              "      <td>1</td>\n",
              "      <td>Harvard University</td>\n",
              "      <td>USA</td>\n",
              "      <td>1</td>\n",
              "      <td>7</td>\n",
              "      <td>9</td>\n",
              "      <td>1</td>\n",
              "      <td>1</td>\n",
              "      <td>1</td>\n",
              "      <td>1</td>\n",
              "      <td>NaN</td>\n",
              "      <td>5</td>\n",
              "      <td>100.00</td>\n",
              "      <td>2012</td>\n",
              "    </tr>\n",
              "    <tr>\n",
              "      <th>1</th>\n",
              "      <td>2</td>\n",
              "      <td>Massachusetts Institute of Technology</td>\n",
              "      <td>USA</td>\n",
              "      <td>2</td>\n",
              "      <td>9</td>\n",
              "      <td>17</td>\n",
              "      <td>3</td>\n",
              "      <td>12</td>\n",
              "      <td>4</td>\n",
              "      <td>4</td>\n",
              "      <td>NaN</td>\n",
              "      <td>1</td>\n",
              "      <td>91.67</td>\n",
              "      <td>2012</td>\n",
              "    </tr>\n",
              "    <tr>\n",
              "      <th>2</th>\n",
              "      <td>3</td>\n",
              "      <td>Stanford University</td>\n",
              "      <td>USA</td>\n",
              "      <td>3</td>\n",
              "      <td>17</td>\n",
              "      <td>11</td>\n",
              "      <td>5</td>\n",
              "      <td>4</td>\n",
              "      <td>2</td>\n",
              "      <td>2</td>\n",
              "      <td>NaN</td>\n",
              "      <td>15</td>\n",
              "      <td>89.50</td>\n",
              "      <td>2012</td>\n",
              "    </tr>\n",
              "    <tr>\n",
              "      <th>3</th>\n",
              "      <td>4</td>\n",
              "      <td>University of Cambridge</td>\n",
              "      <td>United Kingdom</td>\n",
              "      <td>1</td>\n",
              "      <td>10</td>\n",
              "      <td>24</td>\n",
              "      <td>4</td>\n",
              "      <td>16</td>\n",
              "      <td>16</td>\n",
              "      <td>11</td>\n",
              "      <td>NaN</td>\n",
              "      <td>50</td>\n",
              "      <td>86.17</td>\n",
              "      <td>2012</td>\n",
              "    </tr>\n",
              "    <tr>\n",
              "      <th>4</th>\n",
              "      <td>5</td>\n",
              "      <td>California Institute of Technology</td>\n",
              "      <td>USA</td>\n",
              "      <td>4</td>\n",
              "      <td>2</td>\n",
              "      <td>29</td>\n",
              "      <td>7</td>\n",
              "      <td>37</td>\n",
              "      <td>22</td>\n",
              "      <td>22</td>\n",
              "      <td>NaN</td>\n",
              "      <td>18</td>\n",
              "      <td>85.21</td>\n",
              "      <td>2012</td>\n",
              "    </tr>\n",
              "    <tr>\n",
              "      <th>...</th>\n",
              "      <td>...</td>\n",
              "      <td>...</td>\n",
              "      <td>...</td>\n",
              "      <td>...</td>\n",
              "      <td>...</td>\n",
              "      <td>...</td>\n",
              "      <td>...</td>\n",
              "      <td>...</td>\n",
              "      <td>...</td>\n",
              "      <td>...</td>\n",
              "      <td>...</td>\n",
              "      <td>...</td>\n",
              "      <td>...</td>\n",
              "      <td>...</td>\n",
              "    </tr>\n",
              "    <tr>\n",
              "      <th>2195</th>\n",
              "      <td>996</td>\n",
              "      <td>University of the Algarve</td>\n",
              "      <td>Portugal</td>\n",
              "      <td>7</td>\n",
              "      <td>367</td>\n",
              "      <td>567</td>\n",
              "      <td>218</td>\n",
              "      <td>926</td>\n",
              "      <td>845</td>\n",
              "      <td>812</td>\n",
              "      <td>969.0</td>\n",
              "      <td>816</td>\n",
              "      <td>44.03</td>\n",
              "      <td>2015</td>\n",
              "    </tr>\n",
              "    <tr>\n",
              "      <th>2196</th>\n",
              "      <td>997</td>\n",
              "      <td>Alexandria University</td>\n",
              "      <td>Egypt</td>\n",
              "      <td>4</td>\n",
              "      <td>236</td>\n",
              "      <td>566</td>\n",
              "      <td>218</td>\n",
              "      <td>997</td>\n",
              "      <td>908</td>\n",
              "      <td>645</td>\n",
              "      <td>981.0</td>\n",
              "      <td>871</td>\n",
              "      <td>44.03</td>\n",
              "      <td>2015</td>\n",
              "    </tr>\n",
              "    <tr>\n",
              "      <th>2197</th>\n",
              "      <td>998</td>\n",
              "      <td>Federal University of Ceará</td>\n",
              "      <td>Brazil</td>\n",
              "      <td>18</td>\n",
              "      <td>367</td>\n",
              "      <td>549</td>\n",
              "      <td>218</td>\n",
              "      <td>830</td>\n",
              "      <td>823</td>\n",
              "      <td>812</td>\n",
              "      <td>975.0</td>\n",
              "      <td>824</td>\n",
              "      <td>44.03</td>\n",
              "      <td>2015</td>\n",
              "    </tr>\n",
              "    <tr>\n",
              "      <th>2198</th>\n",
              "      <td>999</td>\n",
              "      <td>University of A Coruña</td>\n",
              "      <td>Spain</td>\n",
              "      <td>40</td>\n",
              "      <td>367</td>\n",
              "      <td>567</td>\n",
              "      <td>218</td>\n",
              "      <td>886</td>\n",
              "      <td>974</td>\n",
              "      <td>812</td>\n",
              "      <td>975.0</td>\n",
              "      <td>651</td>\n",
              "      <td>44.02</td>\n",
              "      <td>2015</td>\n",
              "    </tr>\n",
              "    <tr>\n",
              "      <th>2199</th>\n",
              "      <td>1000</td>\n",
              "      <td>China Pharmaceutical University</td>\n",
              "      <td>China</td>\n",
              "      <td>83</td>\n",
              "      <td>367</td>\n",
              "      <td>567</td>\n",
              "      <td>218</td>\n",
              "      <td>861</td>\n",
              "      <td>991</td>\n",
              "      <td>812</td>\n",
              "      <td>981.0</td>\n",
              "      <td>547</td>\n",
              "      <td>44.02</td>\n",
              "      <td>2015</td>\n",
              "    </tr>\n",
              "  </tbody>\n",
              "</table>\n",
              "<p>2200 rows × 14 columns</p>\n",
              "</div>"
            ],
            "text/plain": [
              "      world_rank                            institution  ...   score  year\n",
              "0              1                     Harvard University  ...  100.00  2012\n",
              "1              2  Massachusetts Institute of Technology  ...   91.67  2012\n",
              "2              3                    Stanford University  ...   89.50  2012\n",
              "3              4                University of Cambridge  ...   86.17  2012\n",
              "4              5     California Institute of Technology  ...   85.21  2012\n",
              "...          ...                                    ...  ...     ...   ...\n",
              "2195         996              University of the Algarve  ...   44.03  2015\n",
              "2196         997                  Alexandria University  ...   44.03  2015\n",
              "2197         998            Federal University of Ceará  ...   44.03  2015\n",
              "2198         999                 University of A Coruña  ...   44.02  2015\n",
              "2199        1000        China Pharmaceutical University  ...   44.02  2015\n",
              "\n",
              "[2200 rows x 14 columns]"
            ]
          },
          "metadata": {
            "tags": []
          },
          "execution_count": 17
        }
      ]
    },
    {
      "cell_type": "code",
      "metadata": {
        "colab": {
          "base_uri": "https://localhost:8080/"
        },
        "id": "NyKwdrSE-GV2",
        "outputId": "38b3a123-aef0-4505-9f16-930bff70fc6c"
      },
      "source": [
        "national_rank=np.array(df['national_rank'])\n",
        "national_rank"
      ],
      "execution_count": 21,
      "outputs": [
        {
          "output_type": "execute_result",
          "data": {
            "text/plain": [
              "array([ 1,  2,  3, ..., 18, 40, 83])"
            ]
          },
          "metadata": {
            "tags": []
          },
          "execution_count": 21
        }
      ]
    },
    {
      "cell_type": "code",
      "metadata": {
        "colab": {
          "base_uri": "https://localhost:8080/"
        },
        "id": "q5JKDU5v-N6U",
        "outputId": "8eb891fd-7129-4fba-cd12-4c3b032cebb8"
      },
      "source": [
        "print(max(national_rank))"
      ],
      "execution_count": 22,
      "outputs": [
        {
          "output_type": "stream",
          "text": [
            "229\n"
          ],
          "name": "stdout"
        }
      ]
    },
    {
      "cell_type": "code",
      "metadata": {
        "id": "HaM6HSgD-jvp"
      },
      "source": [
        "from scipy import stats\n",
        "zscore=np.array(stats.zscore(national_rank))\n",
        "zscore=zscore[0:394]"
      ],
      "execution_count": 25,
      "outputs": []
    },
    {
      "cell_type": "code",
      "metadata": {
        "colab": {
          "base_uri": "https://localhost:8080/"
        },
        "id": "duTu3MoJ-xho",
        "outputId": "e0b722cc-b989-46e6-ef29-592211f7145b"
      },
      "source": [
        "zscore"
      ],
      "execution_count": 26,
      "outputs": [
        {
          "output_type": "execute_result",
          "data": {
            "text/plain": [
              "array([-0.7593052 , -0.73997372, -0.72064225, -0.7593052 , -0.70131077,\n",
              "       -0.6819793 , -0.73997372, -0.66264782, -0.64331634, -0.62398487,\n",
              "       -0.60465339, -0.58532192, -0.56599044, -0.7593052 , -0.54665897,\n",
              "       -0.7593052 , -0.73997372, -0.7593052 , -0.52732749, -0.50799602,\n",
              "       -0.48866454, -0.73997372, -0.46933307, -0.45000159, -0.43067012,\n",
              "       -0.41133864, -0.39200717, -0.72064225, -0.37267569, -0.35334422,\n",
              "       -0.70131077, -0.72064225, -0.33401274, -0.31468127, -0.7593052 ,\n",
              "       -0.29534979, -0.27601832, -0.25668684, -0.23735537, -0.21802389,\n",
              "       -0.73997372, -0.19869242, -0.17936094, -0.16002947, -0.14069799,\n",
              "       -0.12136652, -0.10203504, -0.7593052 , -0.08270357, -0.06337209,\n",
              "       -0.72064225, -0.04404062, -0.02470914, -0.73997372, -0.00537766,\n",
              "       -0.70131077,  0.01395381,  0.03328529,  0.05261676, -0.7593052 ,\n",
              "       -0.72064225,  0.07194824, -0.70131077,  0.09127971, -0.73997372,\n",
              "        0.11061119, -0.72064225,  0.12994266, -0.72064225, -0.7593052 ,\n",
              "        0.14927414,  0.16860561,  0.18793709, -0.70131077, -0.7593052 ,\n",
              "       -0.6819793 , -0.7593052 ,  0.20726856, -0.6819793 ,  0.22660004,\n",
              "        0.24593151, -0.7593052 , -0.73997372,  0.26526299, -0.7593052 ,\n",
              "        0.28459446,  0.30392594, -0.70131077, -0.7593052 , -0.72064225,\n",
              "       -0.7593052 , -0.7593052 , -0.7593052 , -0.73997372,  0.32325741,\n",
              "        0.34258889, -0.66264782, -0.64331634, -0.73997372, -0.6819793 ,\n",
              "       -0.7593052 , -0.73997372, -0.7593052 , -0.72064225, -0.73997372,\n",
              "       -0.70131077, -0.6819793 , -0.66264782, -0.64331634, -0.62398487,\n",
              "       -0.60465339, -0.58532192, -0.56599044, -0.7593052 , -0.73997372,\n",
              "       -0.54665897, -0.52732749, -0.7593052 , -0.50799602, -0.48866454,\n",
              "       -0.7593052 , -0.46933307, -0.45000159, -0.43067012, -0.41133864,\n",
              "       -0.39200717, -0.72064225, -0.37267569, -0.7593052 , -0.70131077,\n",
              "       -0.35334422, -0.33401274, -0.73997372, -0.31468127, -0.72064225,\n",
              "       -0.7593052 , -0.29534979, -0.27601832, -0.25668684, -0.7593052 ,\n",
              "       -0.23735537, -0.21802389, -0.19869242, -0.17936094, -0.6819793 ,\n",
              "       -0.16002947, -0.73997372, -0.73997372, -0.14069799, -0.12136652,\n",
              "       -0.10203504, -0.08270357, -0.06337209, -0.04404062, -0.02470914,\n",
              "       -0.73997372, -0.72064225, -0.72064225, -0.00537766, -0.7593052 ,\n",
              "        0.01395381, -0.7593052 ,  0.03328529, -0.72064225,  0.05261676,\n",
              "       -0.70131077, -0.7593052 , -0.7593052 ,  0.07194824, -0.70131077,\n",
              "        0.09127971, -0.66264782,  0.11061119, -0.72064225, -0.64331634,\n",
              "        0.12994266,  0.14927414,  0.16860561, -0.73997372,  0.18793709,\n",
              "       -0.7593052 ,  0.20726856, -0.70131077, -0.7593052 ,  0.22660004,\n",
              "       -0.70131077, -0.7593052 ,  0.24593151,  0.26526299, -0.7593052 ,\n",
              "       -0.6819793 , -0.7593052 ,  0.28459446,  0.30392594, -0.66264782,\n",
              "       -0.73997372, -0.70131077, -0.7593052 , -0.6819793 ,  0.32325741,\n",
              "       -0.7593052 , -0.73997372, -0.72064225, -0.7593052 , -0.73997372,\n",
              "       -0.70131077, -0.6819793 , -0.66264782, -0.64331634, -0.62398487,\n",
              "       -0.60465339, -0.58532192, -0.7593052 , -0.56599044, -0.54665897,\n",
              "       -0.73997372, -0.52732749, -0.7593052 , -0.50799602, -0.48866454,\n",
              "       -0.46933307, -0.7593052 , -0.45000159, -0.7593052 , -0.43067012,\n",
              "       -0.41133864, -0.39200717, -0.37267569, -0.35334422, -0.72064225,\n",
              "       -0.7593052 , -0.33401274, -0.31468127, -0.72064225, -0.7593052 ,\n",
              "       -0.73997372, -0.29534979, -0.73997372, -0.70131077, -0.70131077,\n",
              "       -0.27601832, -0.73997372, -0.6819793 , -0.25668684, -0.23735537,\n",
              "       -0.21802389, -0.19869242, -0.7593052 , -0.17936094, -0.72064225,\n",
              "       -0.16002947, -0.14069799, -0.12136652, -0.10203504, -0.7593052 ,\n",
              "       -0.6819793 , -0.08270357, -0.06337209, -0.04404062, -0.02470914,\n",
              "       -0.72064225, -0.00537766,  0.01395381,  0.03328529, -0.7593052 ,\n",
              "        0.05261676,  0.07194824, -0.70131077, -0.66264782,  0.09127971,\n",
              "        0.11061119, -0.66264782, -0.7593052 , -0.7593052 , -0.73997372,\n",
              "        0.12994266,  0.14927414,  0.16860561, -0.7593052 ,  0.18793709,\n",
              "        0.20726856, -0.7593052 ,  0.22660004,  0.24593151, -0.72064225,\n",
              "       -0.72064225, -0.73997372, -0.7593052 , -0.73997372, -0.64331634,\n",
              "       -0.7593052 , -0.64331634, -0.70131077, -0.7593052 , -0.7593052 ,\n",
              "       -0.62398487, -0.73997372, -0.72064225, -0.70131077, -0.73997372,\n",
              "       -0.73997372,  0.26526299, -0.70131077,  0.28459446,  0.30392594,\n",
              "        0.32325741, -0.73997372,  0.34258889, -0.70131077, -0.7593052 ,\n",
              "       -0.7593052 ,  0.36192036,  0.38125184, -0.7593052 , -0.72064225,\n",
              "       -0.72064225, -0.72064225,  0.40058331, -0.73997372, -0.7593052 ,\n",
              "        0.41991479, -0.70131077, -0.62398487, -0.70131077,  0.43924626,\n",
              "        0.45857774, -0.6819793 , -0.72064225, -0.66264782, -0.70131077,\n",
              "       -0.7593052 , -0.60465339,  0.47790921, -0.6819793 , -0.6819793 ,\n",
              "       -0.73997372, -0.60465339,  0.49724069, -0.72064225, -0.6819793 ,\n",
              "       -0.66264782, -0.58532192,  0.51657216, -0.64331634,  0.53590364,\n",
              "       -0.56599044, -0.54665897, -0.73997372, -0.70131077, -0.58532192,\n",
              "       -0.52732749, -0.64331634, -0.56599044, -0.6819793 , -0.7593052 ,\n",
              "        0.55523511, -0.66264782, -0.64331634, -0.62398487, -0.6819793 ,\n",
              "       -0.60465339,  0.57456659,  0.59389806,  0.61322954,  0.63256102,\n",
              "       -0.62398487, -0.66264782, -0.6819793 , -0.58532192, -0.66264782,\n",
              "        0.65189249,  0.67122397,  0.69055544, -0.6819793 ,  0.70988692,\n",
              "       -0.64331634,  0.72921839, -0.50799602, -0.56599044,  0.74854987,\n",
              "       -0.73997372,  0.76788134,  0.78721282, -0.72064225,  0.80654429,\n",
              "       -0.66264782, -0.66264782, -0.54665897, -0.72064225, -0.48866454,\n",
              "       -0.70131077,  0.82587577,  0.84520724, -0.66264782])"
            ]
          },
          "metadata": {
            "tags": []
          },
          "execution_count": 26
        }
      ]
    },
    {
      "cell_type": "code",
      "metadata": {
        "id": "f0nwls5z_Fua"
      },
      "source": [
        "## decimal normalization"
      ],
      "execution_count": 27,
      "outputs": []
    },
    {
      "cell_type": "code",
      "metadata": {
        "colab": {
          "base_uri": "https://localhost:8080/"
        },
        "id": "CFgBW7Zk_QPq",
        "outputId": "d96c7d38-b731-48f1-9c3a-4e352a99bec0"
      },
      "source": [
        "dn=[]\n",
        "dn.append(national_rank/pow(10,2))\n",
        "dn=np.array(dn)\n",
        "print(dn)"
      ],
      "execution_count": 29,
      "outputs": [
        {
          "output_type": "stream",
          "text": [
            "[[0.01 0.02 0.03 ... 0.18 0.4  0.83]]\n"
          ],
          "name": "stdout"
        }
      ]
    },
    {
      "cell_type": "code",
      "metadata": {
        "id": "y1aNRxTD_a7y"
      },
      "source": [
        ""
      ],
      "execution_count": null,
      "outputs": []
    }
  ]
}