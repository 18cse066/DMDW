{
  "nbformat": 4,
  "nbformat_minor": 0,
  "metadata": {
    "colab": {
      "name": "assignment1.ipynb",
      "provenance": [],
      "authorship_tag": "ABX9TyONgV1ckoQnc8zLlLcgo2sk",
      "include_colab_link": true
    },
    "kernelspec": {
      "name": "python3",
      "display_name": "Python 3"
    }
  },
  "cells": [
    {
      "cell_type": "markdown",
      "metadata": {
        "id": "view-in-github",
        "colab_type": "text"
      },
      "source": [
        "<a href=\"https://colab.research.google.com/github/18cse066/DMDW/blob/main/assignment1.ipynb\" target=\"_parent\"><img src=\"https://colab.research.google.com/assets/colab-badge.svg\" alt=\"Open In Colab\"/></a>"
      ]
    },
    {
      "cell_type": "code",
      "metadata": {
        "colab": {
          "base_uri": "https://localhost:8080/"
        },
        "id": "ZKYwNKFynw9j",
        "outputId": "e3cf58a2-908d-4a21-b2ba-cd2eca8ac30e"
      },
      "source": [
        "import numpy\n",
        "from scipy import stats\n",
        "from collections import Counter\n",
        "n_num = [1,2,3,4,5,5,5]\n",
        "n= len(n_num)\n",
        "get_sum= sum(n_num)\n",
        "mean = get_sum / n\n",
        "print(\"the mean is\"  +  str (mean))\n",
        "n_num.sort()\n",
        "if n % 2 == 0:\n",
        "  median1 = n_num[n//2]\n",
        "  median2 = n_num[n//2 - 1]\n",
        "  median = (median1 + median2) / 2\n",
        "else:\n",
        "  median = n_num[n//2]\n",
        "\n",
        "print(\"the median value is \" + str (median))\n",
        "\n",
        "data = Counter(n_num) \n",
        "get_mode = dict(data) \n",
        "mode = [k for k, v in get_mode.items() if v == max(list(data.values()))] \n",
        "  \n",
        "if len(mode) == n: \n",
        "    get_mode = \"No mode found\"\n",
        "else: \n",
        "    get_mode = \"Mode is / are: \" + ', '.join(map(str, mode)) \n",
        "      \n",
        "print(get_mode) "
      ],
      "execution_count": 1,
      "outputs": [
        {
          "output_type": "stream",
          "text": [
            "the mean is3.5714285714285716\n",
            "the median value is 4\n",
            "Mode is / are: 5\n"
          ],
          "name": "stdout"
        }
      ]
    },
    {
      "cell_type": "code",
      "metadata": {
        "id": "Ijw07nsQoCO-"
      },
      "source": [
        ""
      ],
      "execution_count": null,
      "outputs": []
    }
  ]
}