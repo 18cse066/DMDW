{
  "nbformat": 4,
  "nbformat_minor": 0,
  "metadata": {
    "colab": {
      "name": "assignment2.ipynb",
      "provenance": [],
      "authorship_tag": "ABX9TyO+UNtrf67sA2ySSgc3Edyu",
      "include_colab_link": true
    },
    "kernelspec": {
      "name": "python3",
      "display_name": "Python 3"
    }
  },
  "cells": [
    {
      "cell_type": "markdown",
      "metadata": {
        "id": "view-in-github",
        "colab_type": "text"
      },
      "source": [
        "<a href=\"https://colab.research.google.com/github/18cse066/DMDW/blob/main/assignment2.ipynb\" target=\"_parent\"><img src=\"https://colab.research.google.com/assets/colab-badge.svg\" alt=\"Open In Colab\"/></a>"
      ]
    },
    {
      "cell_type": "code",
      "metadata": {
        "id": "qlu7JN7OoKVw"
      },
      "source": [
        "import pandas as pd"
      ],
      "execution_count": 1,
      "outputs": []
    },
    {
      "cell_type": "code",
      "metadata": {
        "id": "PNAXhsQ9pGNv"
      },
      "source": [
        "import numpy as np"
      ],
      "execution_count": 2,
      "outputs": []
    },
    {
      "cell_type": "code",
      "metadata": {
        "id": "C1FuNmHapIa1"
      },
      "source": [
        "import matplotlib.pyplot as plt"
      ],
      "execution_count": 3,
      "outputs": []
    },
    {
      "cell_type": "code",
      "metadata": {
        "id": "eiib6s3UpK2V"
      },
      "source": [
        "path =(\"https://raw.githubusercontent.com/18cse066/DMDW/main/2020%20November%20General%20Election%20-%20Turnout%20Rates.csv\")"
      ],
      "execution_count": 4,
      "outputs": []
    },
    {
      "cell_type": "code",
      "metadata": {
        "id": "K9tCBTvdpSbQ"
      },
      "source": [
        "data=pd.read_csv(path)"
      ],
      "execution_count": 5,
      "outputs": []
    },
    {
      "cell_type": "code",
      "metadata": {
        "colab": {
          "base_uri": "https://localhost:8080/"
        },
        "id": "x39jqWbUpXz2",
        "outputId": "eb2bc4f7-974c-4c28-acc8-3a7fc4ebe1d2"
      },
      "source": [
        "type(data)"
      ],
      "execution_count": 6,
      "outputs": [
        {
          "output_type": "execute_result",
          "data": {
            "text/plain": [
              "pandas.core.frame.DataFrame"
            ]
          },
          "metadata": {
            "tags": []
          },
          "execution_count": 6
        }
      ]
    },
    {
      "cell_type": "code",
      "metadata": {
        "colab": {
          "base_uri": "https://localhost:8080/"
        },
        "id": "zUbOlNiSpYpg",
        "outputId": "49c1280c-036a-4d8a-f880-f1fb4cac53da"
      },
      "source": [
        "data.info"
      ],
      "execution_count": 7,
      "outputs": [
        {
          "output_type": "execute_result",
          "data": {
            "text/plain": [
              "<bound method DataFrame.info of                    State  ... State Abv\n",
              "0          United States  ...       NaN\n",
              "1                Alabama  ...        AL\n",
              "2                 Alaska  ...        AK\n",
              "3                Arizona  ...        AZ\n",
              "4               Arkansas  ...        AR\n",
              "5             California  ...        CA\n",
              "6               Colorado  ...        CO\n",
              "7            Connecticut  ...        CT\n",
              "8               Delaware  ...        DE\n",
              "9   District of Columbia  ...        DC\n",
              "10               Florida  ...        FL\n",
              "11               Georgia  ...        GA\n",
              "12                Hawaii  ...        HI\n",
              "13                 Idaho  ...        ID\n",
              "14              Illinois  ...        IL\n",
              "15               Indiana  ...        IN\n",
              "16                  Iowa  ...        IA\n",
              "17                Kansas  ...        KS\n",
              "18              Kentucky  ...        KY\n",
              "19             Louisiana  ...        LA\n",
              "20                 Maine  ...        ME\n",
              "21              Maryland  ...        MD\n",
              "22         Massachusetts  ...        MA\n",
              "23              Michigan  ...        MI\n",
              "24             Minnesota  ...        MN\n",
              "25           Mississippi  ...        MS\n",
              "26              Missouri  ...        MO\n",
              "27               Montana  ...        MT\n",
              "28              Nebraska  ...        NE\n",
              "29                Nevada  ...        NV\n",
              "30         New Hampshire  ...        NH\n",
              "31            New Jersey  ...        NJ\n",
              "32            New Mexico  ...        NM\n",
              "33              New York  ...        NY\n",
              "34        North Carolina  ...        NC\n",
              "35          North Dakota  ...        ND\n",
              "36                  Ohio  ...        OH\n",
              "37              Oklahoma  ...        OK\n",
              "38                Oregon  ...        OR\n",
              "39          Pennsylvania  ...        PA\n",
              "40          Rhode Island  ...        RI\n",
              "41        South Carolina  ...        SC\n",
              "42          South Dakota  ...        SD\n",
              "43             Tennessee  ...        TN\n",
              "44                 Texas  ...        TX\n",
              "45                  Utah  ...        UT\n",
              "46               Vermont  ...        VT\n",
              "47              Virginia  ...        VA\n",
              "48            Washington  ...        WA\n",
              "49         West Virginia  ...        WV\n",
              "50             Wisconsin  ...        WI\n",
              "51               Wyoming  ...        WY\n",
              "\n",
              "[52 rows x 15 columns]>"
            ]
          },
          "metadata": {
            "tags": []
          },
          "execution_count": 7
        }
      ]
    },
    {
      "cell_type": "code",
      "metadata": {
        "colab": {
          "base_uri": "https://localhost:8080/"
        },
        "id": "g3hcfx8YpbzD",
        "outputId": "62f0146a-4a36-45d1-b616-a4d3e27d47ac"
      },
      "source": [
        "data.shape"
      ],
      "execution_count": 8,
      "outputs": [
        {
          "output_type": "execute_result",
          "data": {
            "text/plain": [
              "(52, 15)"
            ]
          },
          "metadata": {
            "tags": []
          },
          "execution_count": 8
        }
      ]
    },
    {
      "cell_type": "code",
      "metadata": {
        "colab": {
          "base_uri": "https://localhost:8080/"
        },
        "id": "KWQ_83f3pgRj",
        "outputId": "abb32b9d-99a4-461f-e980-23dfa37c3e3c"
      },
      "source": [
        "data.index"
      ],
      "execution_count": 9,
      "outputs": [
        {
          "output_type": "execute_result",
          "data": {
            "text/plain": [
              "RangeIndex(start=0, stop=52, step=1)"
            ]
          },
          "metadata": {
            "tags": []
          },
          "execution_count": 9
        }
      ]
    },
    {
      "cell_type": "code",
      "metadata": {
        "colab": {
          "base_uri": "https://localhost:8080/"
        },
        "id": "btCPBO-NpjTN",
        "outputId": "372a586a-5d32-4556-e2c7-d01b63797725"
      },
      "source": [
        "data.columns"
      ],
      "execution_count": 10,
      "outputs": [
        {
          "output_type": "execute_result",
          "data": {
            "text/plain": [
              "Index(['State', 'Source', 'Official/Unofficial',\n",
              "       'Total Ballots Counted (Estimate)',\n",
              "       'Vote for Highest Office (President)', 'VEP Turnout Rate',\n",
              "       'Voting-Eligible Population (VEP)', 'Voting-Age Population (VAP)',\n",
              "       '% Non-citizen', 'Prison', 'Probation', 'Parole',\n",
              "       'Total Ineligible Felon', 'Overseas Eligible', 'State Abv'],\n",
              "      dtype='object')"
            ]
          },
          "metadata": {
            "tags": []
          },
          "execution_count": 10
        }
      ]
    },
    {
      "cell_type": "code",
      "metadata": {
        "colab": {
          "base_uri": "https://localhost:8080/",
          "height": 292
        },
        "id": "tzayMr1npmMm",
        "outputId": "5582e9c1-1f57-47f7-a4d6-f56d43fd287b"
      },
      "source": [
        "data.head()"
      ],
      "execution_count": 11,
      "outputs": [
        {
          "output_type": "execute_result",
          "data": {
            "text/html": [
              "<div>\n",
              "<style scoped>\n",
              "    .dataframe tbody tr th:only-of-type {\n",
              "        vertical-align: middle;\n",
              "    }\n",
              "\n",
              "    .dataframe tbody tr th {\n",
              "        vertical-align: top;\n",
              "    }\n",
              "\n",
              "    .dataframe thead th {\n",
              "        text-align: right;\n",
              "    }\n",
              "</style>\n",
              "<table border=\"1\" class=\"dataframe\">\n",
              "  <thead>\n",
              "    <tr style=\"text-align: right;\">\n",
              "      <th></th>\n",
              "      <th>State</th>\n",
              "      <th>Source</th>\n",
              "      <th>Official/Unofficial</th>\n",
              "      <th>Total Ballots Counted (Estimate)</th>\n",
              "      <th>Vote for Highest Office (President)</th>\n",
              "      <th>VEP Turnout Rate</th>\n",
              "      <th>Voting-Eligible Population (VEP)</th>\n",
              "      <th>Voting-Age Population (VAP)</th>\n",
              "      <th>% Non-citizen</th>\n",
              "      <th>Prison</th>\n",
              "      <th>Probation</th>\n",
              "      <th>Parole</th>\n",
              "      <th>Total Ineligible Felon</th>\n",
              "      <th>Overseas Eligible</th>\n",
              "      <th>State Abv</th>\n",
              "    </tr>\n",
              "  </thead>\n",
              "  <tbody>\n",
              "    <tr>\n",
              "      <th>0</th>\n",
              "      <td>United States</td>\n",
              "      <td>NaN</td>\n",
              "      <td>NaN</td>\n",
              "      <td>158,835,004</td>\n",
              "      <td>NaN</td>\n",
              "      <td>66.4%</td>\n",
              "      <td>239,247,182</td>\n",
              "      <td>257,605,088</td>\n",
              "      <td>7.8%</td>\n",
              "      <td>1,461,074</td>\n",
              "      <td>1,962,811</td>\n",
              "      <td>616,440</td>\n",
              "      <td>3,294,457</td>\n",
              "      <td>4,971,025</td>\n",
              "      <td>NaN</td>\n",
              "    </tr>\n",
              "    <tr>\n",
              "      <th>1</th>\n",
              "      <td>Alabama</td>\n",
              "      <td>https://www2.alabamavotes.gov/electionnight/st...</td>\n",
              "      <td>Unofficial</td>\n",
              "      <td>2,306,587</td>\n",
              "      <td>2,297,295</td>\n",
              "      <td>62.6%</td>\n",
              "      <td>3,683,055</td>\n",
              "      <td>3,837,540</td>\n",
              "      <td>2.3%</td>\n",
              "      <td>25,898</td>\n",
              "      <td>50,997</td>\n",
              "      <td>10,266</td>\n",
              "      <td>67,782</td>\n",
              "      <td>NaN</td>\n",
              "      <td>AL</td>\n",
              "    </tr>\n",
              "    <tr>\n",
              "      <th>2</th>\n",
              "      <td>Alaska</td>\n",
              "      <td>https://www.elections.alaska.gov/results/20GEN...</td>\n",
              "      <td>NaN</td>\n",
              "      <td>367,000</td>\n",
              "      <td>NaN</td>\n",
              "      <td>69.8%</td>\n",
              "      <td>525,568</td>\n",
              "      <td>551,117</td>\n",
              "      <td>3.4%</td>\n",
              "      <td>4,293</td>\n",
              "      <td>2,074</td>\n",
              "      <td>1,348</td>\n",
              "      <td>6,927</td>\n",
              "      <td>NaN</td>\n",
              "      <td>AK</td>\n",
              "    </tr>\n",
              "    <tr>\n",
              "      <th>3</th>\n",
              "      <td>Arizona</td>\n",
              "      <td>https://results.arizona.vote/#/featured/18/0</td>\n",
              "      <td>NaN</td>\n",
              "      <td>3,400,000</td>\n",
              "      <td>NaN</td>\n",
              "      <td>65.5%</td>\n",
              "      <td>5,189,000</td>\n",
              "      <td>5,798,473</td>\n",
              "      <td>8.9%</td>\n",
              "      <td>38,520</td>\n",
              "      <td>76,844</td>\n",
              "      <td>7,536</td>\n",
              "      <td>93,699</td>\n",
              "      <td>NaN</td>\n",
              "      <td>AZ</td>\n",
              "    </tr>\n",
              "    <tr>\n",
              "      <th>4</th>\n",
              "      <td>Arkansas</td>\n",
              "      <td>https://results.enr.clarityelections.com/AR/10...</td>\n",
              "      <td>Unofficial</td>\n",
              "      <td>1,212,030</td>\n",
              "      <td>1,206,697</td>\n",
              "      <td>55.5%</td>\n",
              "      <td>2,182,375</td>\n",
              "      <td>2,331,171</td>\n",
              "      <td>3.6%</td>\n",
              "      <td>17,510</td>\n",
              "      <td>36,719</td>\n",
              "      <td>24,698</td>\n",
              "      <td>64,974</td>\n",
              "      <td>NaN</td>\n",
              "      <td>AR</td>\n",
              "    </tr>\n",
              "  </tbody>\n",
              "</table>\n",
              "</div>"
            ],
            "text/plain": [
              "           State  ... State Abv\n",
              "0  United States  ...       NaN\n",
              "1        Alabama  ...        AL\n",
              "2         Alaska  ...        AK\n",
              "3        Arizona  ...        AZ\n",
              "4       Arkansas  ...        AR\n",
              "\n",
              "[5 rows x 15 columns]"
            ]
          },
          "metadata": {
            "tags": []
          },
          "execution_count": 11
        }
      ]
    },
    {
      "cell_type": "code",
      "metadata": {
        "colab": {
          "base_uri": "https://localhost:8080/",
          "height": 292
        },
        "id": "77yJimVTpqHr",
        "outputId": "916652e8-f6d1-4a69-ee46-48525e9f536e"
      },
      "source": [
        "data.tail()"
      ],
      "execution_count": 12,
      "outputs": [
        {
          "output_type": "execute_result",
          "data": {
            "text/html": [
              "<div>\n",
              "<style scoped>\n",
              "    .dataframe tbody tr th:only-of-type {\n",
              "        vertical-align: middle;\n",
              "    }\n",
              "\n",
              "    .dataframe tbody tr th {\n",
              "        vertical-align: top;\n",
              "    }\n",
              "\n",
              "    .dataframe thead th {\n",
              "        text-align: right;\n",
              "    }\n",
              "</style>\n",
              "<table border=\"1\" class=\"dataframe\">\n",
              "  <thead>\n",
              "    <tr style=\"text-align: right;\">\n",
              "      <th></th>\n",
              "      <th>State</th>\n",
              "      <th>Source</th>\n",
              "      <th>Official/Unofficial</th>\n",
              "      <th>Total Ballots Counted (Estimate)</th>\n",
              "      <th>Vote for Highest Office (President)</th>\n",
              "      <th>VEP Turnout Rate</th>\n",
              "      <th>Voting-Eligible Population (VEP)</th>\n",
              "      <th>Voting-Age Population (VAP)</th>\n",
              "      <th>% Non-citizen</th>\n",
              "      <th>Prison</th>\n",
              "      <th>Probation</th>\n",
              "      <th>Parole</th>\n",
              "      <th>Total Ineligible Felon</th>\n",
              "      <th>Overseas Eligible</th>\n",
              "      <th>State Abv</th>\n",
              "    </tr>\n",
              "  </thead>\n",
              "  <tbody>\n",
              "    <tr>\n",
              "      <th>47</th>\n",
              "      <td>Virginia</td>\n",
              "      <td>https://results.elections.virginia.gov/vaelect...</td>\n",
              "      <td>Unofficial</td>\n",
              "      <td>4,425,000</td>\n",
              "      <td>4,409,913</td>\n",
              "      <td>71.4%</td>\n",
              "      <td>6,196,071</td>\n",
              "      <td>6,727,440</td>\n",
              "      <td>6.8%</td>\n",
              "      <td>35,743</td>\n",
              "      <td>63,111</td>\n",
              "      <td>1,860</td>\n",
              "      <td>76,732</td>\n",
              "      <td>NaN</td>\n",
              "      <td>VA</td>\n",
              "    </tr>\n",
              "    <tr>\n",
              "      <th>48</th>\n",
              "      <td>Washington</td>\n",
              "      <td>https://results.vote.wa.gov/results/20201103/t...</td>\n",
              "      <td>NaN</td>\n",
              "      <td>4,100,000</td>\n",
              "      <td>NaN</td>\n",
              "      <td>75.4%</td>\n",
              "      <td>5,437,844</td>\n",
              "      <td>6,070,046</td>\n",
              "      <td>9.1%</td>\n",
              "      <td>18,777</td>\n",
              "      <td>76,672</td>\n",
              "      <td>12,222</td>\n",
              "      <td>78,536</td>\n",
              "      <td>NaN</td>\n",
              "      <td>WA</td>\n",
              "    </tr>\n",
              "    <tr>\n",
              "      <th>49</th>\n",
              "      <td>West Virginia</td>\n",
              "      <td>NaN</td>\n",
              "      <td>NaN</td>\n",
              "      <td>795,000</td>\n",
              "      <td>NaN</td>\n",
              "      <td>57.0%</td>\n",
              "      <td>1,394,028</td>\n",
              "      <td>1,422,098</td>\n",
              "      <td>0.9%</td>\n",
              "      <td>6,757</td>\n",
              "      <td>6,593</td>\n",
              "      <td>4,287</td>\n",
              "      <td>15,132</td>\n",
              "      <td>NaN</td>\n",
              "      <td>WV</td>\n",
              "    </tr>\n",
              "    <tr>\n",
              "      <th>50</th>\n",
              "      <td>Wisconsin</td>\n",
              "      <td>NaN</td>\n",
              "      <td>NaN</td>\n",
              "      <td>3,325,000</td>\n",
              "      <td>NaN</td>\n",
              "      <td>76.1%</td>\n",
              "      <td>4,368,530</td>\n",
              "      <td>4,586,746</td>\n",
              "      <td>3.2%</td>\n",
              "      <td>23,574</td>\n",
              "      <td>42,909</td>\n",
              "      <td>21,015</td>\n",
              "      <td>71,193</td>\n",
              "      <td>NaN</td>\n",
              "      <td>WI</td>\n",
              "    </tr>\n",
              "    <tr>\n",
              "      <th>51</th>\n",
              "      <td>Wyoming</td>\n",
              "      <td>https://sos.wyo.gov/Elections/Docs/2020/2020Ge...</td>\n",
              "      <td>OFFICIAL</td>\n",
              "      <td>278,503</td>\n",
              "      <td>276,765</td>\n",
              "      <td>64.6%</td>\n",
              "      <td>431,364</td>\n",
              "      <td>447,915</td>\n",
              "      <td>2.2%</td>\n",
              "      <td>2,488</td>\n",
              "      <td>5,383</td>\n",
              "      <td>934</td>\n",
              "      <td>6,759</td>\n",
              "      <td>NaN</td>\n",
              "      <td>WY</td>\n",
              "    </tr>\n",
              "  </tbody>\n",
              "</table>\n",
              "</div>"
            ],
            "text/plain": [
              "            State  ... State Abv\n",
              "47       Virginia  ...        VA\n",
              "48     Washington  ...        WA\n",
              "49  West Virginia  ...        WV\n",
              "50      Wisconsin  ...        WI\n",
              "51        Wyoming  ...        WY\n",
              "\n",
              "[5 rows x 15 columns]"
            ]
          },
          "metadata": {
            "tags": []
          },
          "execution_count": 12
        }
      ]
    },
    {
      "cell_type": "code",
      "metadata": {
        "colab": {
          "base_uri": "https://localhost:8080/",
          "height": 464
        },
        "id": "1LRPe2P2ptRf",
        "outputId": "0e587307-ab61-4850-ce43-506226e41389"
      },
      "source": [
        "data.head(10)"
      ],
      "execution_count": 13,
      "outputs": [
        {
          "output_type": "execute_result",
          "data": {
            "text/html": [
              "<div>\n",
              "<style scoped>\n",
              "    .dataframe tbody tr th:only-of-type {\n",
              "        vertical-align: middle;\n",
              "    }\n",
              "\n",
              "    .dataframe tbody tr th {\n",
              "        vertical-align: top;\n",
              "    }\n",
              "\n",
              "    .dataframe thead th {\n",
              "        text-align: right;\n",
              "    }\n",
              "</style>\n",
              "<table border=\"1\" class=\"dataframe\">\n",
              "  <thead>\n",
              "    <tr style=\"text-align: right;\">\n",
              "      <th></th>\n",
              "      <th>State</th>\n",
              "      <th>Source</th>\n",
              "      <th>Official/Unofficial</th>\n",
              "      <th>Total Ballots Counted (Estimate)</th>\n",
              "      <th>Vote for Highest Office (President)</th>\n",
              "      <th>VEP Turnout Rate</th>\n",
              "      <th>Voting-Eligible Population (VEP)</th>\n",
              "      <th>Voting-Age Population (VAP)</th>\n",
              "      <th>% Non-citizen</th>\n",
              "      <th>Prison</th>\n",
              "      <th>Probation</th>\n",
              "      <th>Parole</th>\n",
              "      <th>Total Ineligible Felon</th>\n",
              "      <th>Overseas Eligible</th>\n",
              "      <th>State Abv</th>\n",
              "    </tr>\n",
              "  </thead>\n",
              "  <tbody>\n",
              "    <tr>\n",
              "      <th>0</th>\n",
              "      <td>United States</td>\n",
              "      <td>NaN</td>\n",
              "      <td>NaN</td>\n",
              "      <td>158,835,004</td>\n",
              "      <td>NaN</td>\n",
              "      <td>66.4%</td>\n",
              "      <td>239,247,182</td>\n",
              "      <td>257,605,088</td>\n",
              "      <td>7.8%</td>\n",
              "      <td>1,461,074</td>\n",
              "      <td>1,962,811</td>\n",
              "      <td>616,440</td>\n",
              "      <td>3,294,457</td>\n",
              "      <td>4,971,025</td>\n",
              "      <td>NaN</td>\n",
              "    </tr>\n",
              "    <tr>\n",
              "      <th>1</th>\n",
              "      <td>Alabama</td>\n",
              "      <td>https://www2.alabamavotes.gov/electionnight/st...</td>\n",
              "      <td>Unofficial</td>\n",
              "      <td>2,306,587</td>\n",
              "      <td>2,297,295</td>\n",
              "      <td>62.6%</td>\n",
              "      <td>3,683,055</td>\n",
              "      <td>3,837,540</td>\n",
              "      <td>2.3%</td>\n",
              "      <td>25,898</td>\n",
              "      <td>50,997</td>\n",
              "      <td>10,266</td>\n",
              "      <td>67,782</td>\n",
              "      <td>NaN</td>\n",
              "      <td>AL</td>\n",
              "    </tr>\n",
              "    <tr>\n",
              "      <th>2</th>\n",
              "      <td>Alaska</td>\n",
              "      <td>https://www.elections.alaska.gov/results/20GEN...</td>\n",
              "      <td>NaN</td>\n",
              "      <td>367,000</td>\n",
              "      <td>NaN</td>\n",
              "      <td>69.8%</td>\n",
              "      <td>525,568</td>\n",
              "      <td>551,117</td>\n",
              "      <td>3.4%</td>\n",
              "      <td>4,293</td>\n",
              "      <td>2,074</td>\n",
              "      <td>1,348</td>\n",
              "      <td>6,927</td>\n",
              "      <td>NaN</td>\n",
              "      <td>AK</td>\n",
              "    </tr>\n",
              "    <tr>\n",
              "      <th>3</th>\n",
              "      <td>Arizona</td>\n",
              "      <td>https://results.arizona.vote/#/featured/18/0</td>\n",
              "      <td>NaN</td>\n",
              "      <td>3,400,000</td>\n",
              "      <td>NaN</td>\n",
              "      <td>65.5%</td>\n",
              "      <td>5,189,000</td>\n",
              "      <td>5,798,473</td>\n",
              "      <td>8.9%</td>\n",
              "      <td>38,520</td>\n",
              "      <td>76,844</td>\n",
              "      <td>7,536</td>\n",
              "      <td>93,699</td>\n",
              "      <td>NaN</td>\n",
              "      <td>AZ</td>\n",
              "    </tr>\n",
              "    <tr>\n",
              "      <th>4</th>\n",
              "      <td>Arkansas</td>\n",
              "      <td>https://results.enr.clarityelections.com/AR/10...</td>\n",
              "      <td>Unofficial</td>\n",
              "      <td>1,212,030</td>\n",
              "      <td>1,206,697</td>\n",
              "      <td>55.5%</td>\n",
              "      <td>2,182,375</td>\n",
              "      <td>2,331,171</td>\n",
              "      <td>3.6%</td>\n",
              "      <td>17,510</td>\n",
              "      <td>36,719</td>\n",
              "      <td>24,698</td>\n",
              "      <td>64,974</td>\n",
              "      <td>NaN</td>\n",
              "      <td>AR</td>\n",
              "    </tr>\n",
              "    <tr>\n",
              "      <th>5</th>\n",
              "      <td>California</td>\n",
              "      <td>https://electionresults.sos.ca.gov/</td>\n",
              "      <td>Unofficial</td>\n",
              "      <td>16,800,000</td>\n",
              "      <td>NaN</td>\n",
              "      <td>64.7%</td>\n",
              "      <td>25,962,648</td>\n",
              "      <td>30,783,255</td>\n",
              "      <td>15.0%</td>\n",
              "      <td>104,730</td>\n",
              "      <td>0</td>\n",
              "      <td>102,586</td>\n",
              "      <td>207,316</td>\n",
              "      <td>NaN</td>\n",
              "      <td>CA</td>\n",
              "    </tr>\n",
              "    <tr>\n",
              "      <th>6</th>\n",
              "      <td>Colorado</td>\n",
              "      <td>https://results.enr.clarityelections.com/CO/10...</td>\n",
              "      <td>NaN</td>\n",
              "      <td>3,295,000</td>\n",
              "      <td>NaN</td>\n",
              "      <td>76.4%</td>\n",
              "      <td>4,313,054</td>\n",
              "      <td>4,595,504</td>\n",
              "      <td>5.7%</td>\n",
              "      <td>18,905</td>\n",
              "      <td>0</td>\n",
              "      <td>0</td>\n",
              "      <td>18,905</td>\n",
              "      <td>NaN</td>\n",
              "      <td>CO</td>\n",
              "    </tr>\n",
              "    <tr>\n",
              "      <th>7</th>\n",
              "      <td>Connecticut</td>\n",
              "      <td>NaN</td>\n",
              "      <td>NaN</td>\n",
              "      <td>1,850,000</td>\n",
              "      <td>NaN</td>\n",
              "      <td>71.1%</td>\n",
              "      <td>2,603,327</td>\n",
              "      <td>2,839,560</td>\n",
              "      <td>7.7%</td>\n",
              "      <td>13,268</td>\n",
              "      <td>0</td>\n",
              "      <td>4,452</td>\n",
              "      <td>17,720</td>\n",
              "      <td>NaN</td>\n",
              "      <td>CT</td>\n",
              "    </tr>\n",
              "    <tr>\n",
              "      <th>8</th>\n",
              "      <td>Delaware</td>\n",
              "      <td>https://elections.delaware.gov/results/html/in...</td>\n",
              "      <td>Unofficial</td>\n",
              "      <td>507,805</td>\n",
              "      <td>502,392</td>\n",
              "      <td>70.5%</td>\n",
              "      <td>720,531</td>\n",
              "      <td>780,822</td>\n",
              "      <td>5.8%</td>\n",
              "      <td>5,874</td>\n",
              "      <td>14,176</td>\n",
              "      <td>350</td>\n",
              "      <td>15,013</td>\n",
              "      <td>NaN</td>\n",
              "      <td>DE</td>\n",
              "    </tr>\n",
              "    <tr>\n",
              "      <th>9</th>\n",
              "      <td>District of Columbia</td>\n",
              "      <td>https://electionresults.dcboe.org/election_res...</td>\n",
              "      <td>NaN</td>\n",
              "      <td>350,000</td>\n",
              "      <td>NaN</td>\n",
              "      <td>64.7%</td>\n",
              "      <td>540,685</td>\n",
              "      <td>582,065</td>\n",
              "      <td>7.1%</td>\n",
              "      <td>0</td>\n",
              "      <td>0</td>\n",
              "      <td>0</td>\n",
              "      <td>0</td>\n",
              "      <td>NaN</td>\n",
              "      <td>DC</td>\n",
              "    </tr>\n",
              "  </tbody>\n",
              "</table>\n",
              "</div>"
            ],
            "text/plain": [
              "                  State  ... State Abv\n",
              "0         United States  ...       NaN\n",
              "1               Alabama  ...        AL\n",
              "2                Alaska  ...        AK\n",
              "3               Arizona  ...        AZ\n",
              "4              Arkansas  ...        AR\n",
              "5            California  ...        CA\n",
              "6              Colorado  ...        CO\n",
              "7           Connecticut  ...        CT\n",
              "8              Delaware  ...        DE\n",
              "9  District of Columbia  ...        DC\n",
              "\n",
              "[10 rows x 15 columns]"
            ]
          },
          "metadata": {
            "tags": []
          },
          "execution_count": 13
        }
      ]
    },
    {
      "cell_type": "code",
      "metadata": {
        "colab": {
          "base_uri": "https://localhost:8080/"
        },
        "id": "1v_b54ylpxGP",
        "outputId": "4b3ff92f-d694-470a-ed77-7db18d711ca7"
      },
      "source": [
        "data.isnull().sum()"
      ],
      "execution_count": 14,
      "outputs": [
        {
          "output_type": "execute_result",
          "data": {
            "text/plain": [
              "State                                   0\n",
              "Source                                 12\n",
              "Official/Unofficial                    27\n",
              "Total Ballots Counted (Estimate)        0\n",
              "Vote for Highest Office (President)    28\n",
              "VEP Turnout Rate                        0\n",
              "Voting-Eligible Population (VEP)        0\n",
              "Voting-Age Population (VAP)             0\n",
              "% Non-citizen                           0\n",
              "Prison                                  0\n",
              "Probation                               0\n",
              "Parole                                  0\n",
              "Total Ineligible Felon                  0\n",
              "Overseas Eligible                      51\n",
              "State Abv                               1\n",
              "dtype: int64"
            ]
          },
          "metadata": {
            "tags": []
          },
          "execution_count": 14
        }
      ]
    },
    {
      "cell_type": "code",
      "metadata": {
        "colab": {
          "base_uri": "https://localhost:8080/"
        },
        "id": "0lcTTyKIp0Bq",
        "outputId": "9c76ea37-40ed-4634-ecee-ca0c8ed44cd2"
      },
      "source": [
        "data.dropna(inplace=True) # removed the null values 1st method remove roes when large data we are having\n",
        "data.isnull().sum()"
      ],
      "execution_count": 15,
      "outputs": [
        {
          "output_type": "execute_result",
          "data": {
            "text/plain": [
              "State                                  0\n",
              "Source                                 0\n",
              "Official/Unofficial                    0\n",
              "Total Ballots Counted (Estimate)       0\n",
              "Vote for Highest Office (President)    0\n",
              "VEP Turnout Rate                       0\n",
              "Voting-Eligible Population (VEP)       0\n",
              "Voting-Age Population (VAP)            0\n",
              "% Non-citizen                          0\n",
              "Prison                                 0\n",
              "Probation                              0\n",
              "Parole                                 0\n",
              "Total Ineligible Felon                 0\n",
              "Overseas Eligible                      0\n",
              "State Abv                              0\n",
              "dtype: int64"
            ]
          },
          "metadata": {
            "tags": []
          },
          "execution_count": 15
        }
      ]
    },
    {
      "cell_type": "code",
      "metadata": {
        "colab": {
          "base_uri": "https://localhost:8080/"
        },
        "id": "enycs3MSp4fE",
        "outputId": "7f45c426-6bed-42f2-98bb-7696ebb68ace"
      },
      "source": [
        "data.shape"
      ],
      "execution_count": 16,
      "outputs": [
        {
          "output_type": "execute_result",
          "data": {
            "text/plain": [
              "(0, 15)"
            ]
          },
          "metadata": {
            "tags": []
          },
          "execution_count": 16
        }
      ]
    },
    {
      "cell_type": "code",
      "metadata": {
        "colab": {
          "base_uri": "https://localhost:8080/",
          "height": 100
        },
        "id": "LRSWRSFsp8UJ",
        "outputId": "3602024c-4862-4c0c-b39f-ad9da56456bf"
      },
      "source": [
        "data.head(10)"
      ],
      "execution_count": 17,
      "outputs": [
        {
          "output_type": "execute_result",
          "data": {
            "text/html": [
              "<div>\n",
              "<style scoped>\n",
              "    .dataframe tbody tr th:only-of-type {\n",
              "        vertical-align: middle;\n",
              "    }\n",
              "\n",
              "    .dataframe tbody tr th {\n",
              "        vertical-align: top;\n",
              "    }\n",
              "\n",
              "    .dataframe thead th {\n",
              "        text-align: right;\n",
              "    }\n",
              "</style>\n",
              "<table border=\"1\" class=\"dataframe\">\n",
              "  <thead>\n",
              "    <tr style=\"text-align: right;\">\n",
              "      <th></th>\n",
              "      <th>State</th>\n",
              "      <th>Source</th>\n",
              "      <th>Official/Unofficial</th>\n",
              "      <th>Total Ballots Counted (Estimate)</th>\n",
              "      <th>Vote for Highest Office (President)</th>\n",
              "      <th>VEP Turnout Rate</th>\n",
              "      <th>Voting-Eligible Population (VEP)</th>\n",
              "      <th>Voting-Age Population (VAP)</th>\n",
              "      <th>% Non-citizen</th>\n",
              "      <th>Prison</th>\n",
              "      <th>Probation</th>\n",
              "      <th>Parole</th>\n",
              "      <th>Total Ineligible Felon</th>\n",
              "      <th>Overseas Eligible</th>\n",
              "      <th>State Abv</th>\n",
              "    </tr>\n",
              "  </thead>\n",
              "  <tbody>\n",
              "  </tbody>\n",
              "</table>\n",
              "</div>"
            ],
            "text/plain": [
              "Empty DataFrame\n",
              "Columns: [State, Source, Official/Unofficial, Total Ballots Counted (Estimate), Vote for Highest Office (President), VEP Turnout Rate, Voting-Eligible Population (VEP), Voting-Age Population (VAP), % Non-citizen, Prison, Probation, Parole, Total Ineligible Felon, Overseas Eligible, State Abv]\n",
              "Index: []"
            ]
          },
          "metadata": {
            "tags": []
          },
          "execution_count": 17
        }
      ]
    },
    {
      "cell_type": "code",
      "metadata": {
        "colab": {
          "base_uri": "https://localhost:8080/"
        },
        "id": "fCPO1idJp_nR",
        "outputId": "0231e0a6-b87a-4e09-ea10-d116c4c118b9"
      },
      "source": [
        "# 2nd method handling missing value\n",
        "data['Prison'].mean()"
      ],
      "execution_count": 18,
      "outputs": [
        {
          "output_type": "execute_result",
          "data": {
            "text/plain": [
              "nan"
            ]
          },
          "metadata": {
            "tags": []
          },
          "execution_count": 18
        }
      ]
    },
    {
      "cell_type": "code",
      "metadata": {
        "colab": {
          "base_uri": "https://localhost:8080/"
        },
        "id": "8W_yOXwEqJ31",
        "outputId": "c56a75e8-041e-4550-de5e-8f756e6436df"
      },
      "source": [
        "data['Prison'].head()"
      ],
      "execution_count": 19,
      "outputs": [
        {
          "output_type": "execute_result",
          "data": {
            "text/plain": [
              "Series([], Name: Prison, dtype: object)"
            ]
          },
          "metadata": {
            "tags": []
          },
          "execution_count": 19
        }
      ]
    },
    {
      "cell_type": "code",
      "metadata": {
        "colab": {
          "base_uri": "https://localhost:8080/"
        },
        "id": "bM9Daq4sqPgE",
        "outputId": "0aa16071-e1a4-40ca-d010-915334a9ac94"
      },
      "source": [
        "data['Prison'].replace(np.NaN,data['Prison'].mean()).head()"
      ],
      "execution_count": 20,
      "outputs": [
        {
          "output_type": "execute_result",
          "data": {
            "text/plain": [
              "Series([], Name: Prison, dtype: object)"
            ]
          },
          "metadata": {
            "tags": []
          },
          "execution_count": 20
        }
      ]
    },
    {
      "cell_type": "code",
      "metadata": {
        "id": "atGtVOGbqX8d"
      },
      "source": [
        ""
      ],
      "execution_count": null,
      "outputs": []
    }
  ]
}